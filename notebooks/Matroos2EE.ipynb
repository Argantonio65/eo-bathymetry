{
 "cells": [
  {
   "cell_type": "markdown",
   "metadata": {},
   "source": [
    "## Waterlevel stations\n",
    "Convert data from http://matroos.deltares.nl/timeseries/start/ (noos output) into a format that can be used in Google Fusiontable\n",
    "* Terschelling Noordzee (53.44248608°N, 005.33303479°E)\n",
    "* Delfzijl (53.32635727°E,6.93312255°N)\n",
    "* Haringvliet 10 (51.86313430°N, 3.86077225°E)"
   ]
  },
  {
   "cell_type": "code",
   "execution_count": 1,
   "metadata": {
    "collapsed": true
   },
   "outputs": [],
   "source": [
    "import numpy as np\n",
    "import matplotlib.pyplot as plt\n",
    "%matplotlib inline\n",
    "import pandas as pd"
   ]
  },
  {
   "cell_type": "code",
   "execution_count": 14,
   "metadata": {},
   "outputs": [
    {
     "name": "stdout",
     "output_type": "stream",
     "text": [
      "Terschelling\n"
     ]
    },
    {
     "name": "stderr",
     "output_type": "stream",
     "text": [
      "D:\\hagenaar\\AppData\\Local\\Continuum\\Anaconda\\lib\\site-packages\\ipykernel_launcher.py:6: ParserWarning: Falling back to the 'python' engine because the 'c' engine does not support regex separators (separators > 1 char and different from '\\s+' are interpreted as regex); you can avoid this warning by specifying engine='python'.\n",
      "  \n"
     ]
    },
    {
     "name": "stdout",
     "output_type": "stream",
     "text": [
      "Delfzijl\n",
      "Haringvliet\n"
     ]
    }
   ],
   "source": [
    "stations = ['Terschelling','Delfzijl','Haringvliet']\n",
    "\n",
    "for station in stations:\n",
    "    print station\n",
    "    df = pd.read_csv(r'D:\\hagenaar\\Documents\\EMODNET\\GLOSSISgrid\\ObservedWaterlevel' + str(station) + '.txt', \n",
    "                     skiprows=13, delimiter='  ', names=['time','waterlevel'])\n",
    "    \n",
    "    df['time'] = pd.to_datetime(df['time'], yearfirst=True, format='%Y%m%d%H%M')\n",
    "    df.set_index('time', inplace=True)\n",
    "    df['waterlevel'][df['waterlevel'].isnull()] = np.nan\n",
    "    df['waterlevel'][df['waterlevel'] == 9999999] # missing value\n",
    "    df.dropna(inplace=True)\n",
    "    df.to_csv(r'D:\\hagenaar\\Documents\\EMODNET\\GLOSSISgrid\\ObservedWaterlevel' + str(station) + 'MODIFIED.txt')"
   ]
  },
  {
   "cell_type": "code",
   "execution_count": null,
   "metadata": {
    "collapsed": true
   },
   "outputs": [],
   "source": []
  }
 ],
 "metadata": {
  "kernelspec": {
   "display_name": "Python 2",
   "language": "python",
   "name": "python2"
  },
  "language_info": {
   "codemirror_mode": {
    "name": "ipython",
    "version": 2
   },
   "file_extension": ".py",
   "mimetype": "text/x-python",
   "name": "python",
   "nbconvert_exporter": "python",
   "pygments_lexer": "ipython2",
   "version": "2.7.13"
  }
 },
 "nbformat": 4,
 "nbformat_minor": 2
}
