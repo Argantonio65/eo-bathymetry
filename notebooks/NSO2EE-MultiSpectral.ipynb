{
 "cells": [
  {
   "cell_type": "code",
   "execution_count": 1,
   "metadata": {
    "collapsed": false
   },
   "outputs": [],
   "source": [
    "import os\n",
    "import sys\n",
    "import re\n",
    "import glob\n",
    "import subprocess\n",
    "import time\n",
    "import datetime\n",
    "import pytz\n",
    "import exifread\n",
    "import zipfile\n",
    "import gdal\n",
    "import pandas as pd\n",
    "\n",
    "import ee\n",
    "import ee.cli\n",
    "import ee.cli.commands\n",
    "import ee.cli.utils"
   ]
  },
  {
   "cell_type": "code",
   "execution_count": 2,
   "metadata": {
    "collapsed": true
   },
   "outputs": [],
   "source": [
    "def run(cmd):\n",
    "    print(cmd)\n",
    "    subprocess.call(cmd)\n",
    "    \n",
    "def extractAll(zipName):\n",
    "    z = zipfile.PyZipFile(zipName)\n",
    "    for f in z.namelist():\n",
    "        if f.endswith('/'):\n",
    "            os.makedirs(f)\n",
    "        else:\n",
    "            z.extract(f)"
   ]
  },
  {
   "cell_type": "code",
   "execution_count": 3,
   "metadata": {
    "collapsed": true
   },
   "outputs": [],
   "source": [
    "ee.Initialize()\n",
    "ee_config = ee.cli.utils.CommandLineConfig()"
   ]
  },
  {
   "cell_type": "code",
   "execution_count": 31,
   "metadata": {
    "collapsed": false
   },
   "outputs": [
    {
     "name": "stdout",
     "output_type": "stream",
     "text": [
      "['Number of files to upload as assets = 3']\n",
      "['Number of zipped files = 7']\n"
     ]
    }
   ],
   "source": [
    "local = pytz.timezone(\"Europe/Amsterdam\")\n",
    "input_dir = r'P:/11202200.005-kpp-cip2018/data/Satellitedataportaal'\n",
    "os.chdir(input_dir)\n",
    "\n",
    "rapideye = False\n",
    "triplesat = True\n",
    "\n",
    "if rapideye:\n",
    "    files = glob.glob('RapidEye/RE_RD_12bit_RGBEI_5m_jp2000/**/**/*.jp2000', recursive=True)\n",
    "    zippedfiles = glob.glob('RapidEye/RE_RD_12bit_RGBEI_5m_jp2000/**/**/*.zip', recursive=True)\n",
    "    dst = 'RapidEye/RE_RD_12bit_RGBEI_5m_jp2000/'\n",
    "    print(['Number of files to upload as assets = '+str(len(files))])\n",
    "    print(['Number of zipped files = '+str(len(zippedfiles))])\n",
    "elif triplesat:\n",
    "    # TripleSat locations searched: Ameland, Dokkum, Haamstede, Hulst, Schiermonnikoog, Tweede_Maasvlakte, Terschelling, Westkapelle, Yerseke, Zierikzee\n",
    "    files = glob.glob('TripleSat/Tri_RD_12bit_RGBI_80cm/*.tif')\n",
    "    zippedfiles = glob.glob('TripleSat/Tri_RD_12bit_RGBI_80cm/**/**/**/*.zip')#, recursive=True)\n",
    "    dst = 'TripleSat/Tri_RD_12bit_RGBI_80cm/'\n",
    "    print(['Number of files to upload as assets = '+str(len(files))])\n",
    "    print(['Number of zipped files = '+str(len(zippedfiles))])\n",
    "#     print(zippedfiles)\n",
    "else:\n",
    "    print(\"No satellite selected.\")\n",
    "    \n",
    "os.chdir(dst)"
   ]
  },
  {
   "cell_type": "code",
   "execution_count": null,
   "metadata": {
    "collapsed": false
   },
   "outputs": [],
   "source": [
    "print(zippedfiles[0])\n",
    "filename = os.path.basename(zippedfiles[0])\n",
    "print(filename)\n",
    "filename_no_ext = os.path.splitext(filename)[0]\n",
    "print(filename_no_ext)\n",
    "filename_unzipped = os.path.join(input_dir,dst,filename_no_ext+'.jp2000')\n",
    "print(filename_unzipped)"
   ]
  },
  {
   "cell_type": "code",
   "execution_count": null,
   "metadata": {
    "collapsed": false
   },
   "outputs": [
    {
     "name": "stdout",
     "output_type": "stream",
     "text": [
      "['Unzipped .tif file from 20180302_093358_Tri_80cm_RD_12bit_RGBI_Schiermonnikoog.zip']\n",
      "['Unzipped .tif file from 20180306_094211_Tri_80cm_RD_12bit_RGBI_Westkapelle.zip']\n"
     ]
    }
   ],
   "source": [
    "# Files must all be in the same file for Google Earth Engine Batch Asset Manager,\n",
    "# but ftp.satellietdataportaal.nl transfer for RapidEye was categorized in monthly/daily folders\n",
    "\n",
    "# Unzip all\n",
    "if rapideye:\n",
    "    for j in zippedfiles:\n",
    "        filename = os.path.basename(j)\n",
    "        filename_no_ext = os.path.splitext(filename)[0]\n",
    "        filename_unzipped = os.path.join(input_dir,dst,filename_no_ext+'.jp2000')\n",
    "        is_unzipped = os.path.lexists(filename_unzipped)\n",
    "        if is_unzipped: \n",
    "            os.remove(os.path.join(input_dir,j))\n",
    "        else:\n",
    "            extractAll(os.path.join(input_dir,j))\n",
    "            print(['Unzipped .jp2000 file from ' + filename])\n",
    "            os.remove(os.path.join(input_dir,j))\n",
    "elif triplesat:\n",
    "    for j in zippedfiles:\n",
    "        filename = os.path.basename(j)\n",
    "        filename_no_ext = os.path.splitext(j)[0]\n",
    "        filename_unzipped = os.path.join(input_dir,filename_no_ext+'.tif')\n",
    "        is_unzipped = os.path.lexists(filename_unzipped)\n",
    "        if is_unzipped: \n",
    "            os.remove(os.path.join(input_dir,j))\n",
    "        else:\n",
    "            extractAll(os.path.join(input_dir,j))\n",
    "            print(['Unzipped .tif file from ' + filename])\n",
    "            os.remove(os.path.join(input_dir,j))\n",
    "else:\n",
    "    print('No satellite selected')"
   ]
  },
  {
   "cell_type": "code",
   "execution_count": null,
   "metadata": {
    "collapsed": true
   },
   "outputs": [],
   "source": [
    "\n",
    "# # Move all files to destination path\n",
    "# for k in files:\n",
    "#     filename = os.path.basename(k)\n",
    "#     path_move_file = os.path.join(input_dir,dst,filename)\n",
    "#     if os.path.lexists(path_move_file):\n",
    "#         pass\n",
    "#     else:\n",
    "#         os.rename(os.path.join(input_dir,k), path_move_file)\n",
    "\n",
    "# delete empty directories\n",
    "if rapideye:\n",
    "    empty_dir = glob.glob('RapidEye/RE_RD_12bit_RGBEI_5m_jp2000/**/**')\n",
    "#     empty_dir = glob.glob('RapidEye/**/**')\n",
    "elif triplesat:\n",
    "    empty_dir = glob.glob('TripleSat/Tri_RD_12bit_RGBI_80cm/**/**/**')\n",
    "else:\n",
    "    print(\"No satellite selected.\")\n",
    "\n",
    "for e in empty_dir:\n",
    "    os.rmdir(os.path.join(input_dir,e))"
   ]
  },
  {
   "cell_type": "code",
   "execution_count": 13,
   "metadata": {
    "collapsed": false
   },
   "outputs": [
    {
     "name": "stdout",
     "output_type": "stream",
     "text": [
      "105\n"
     ]
    }
   ],
   "source": [
    "# files = glob.glob('*.jp2')\n",
    "# print(len(files))\n",
    "files = glob.glob('*.tif')\n",
    "print(len(files))"
   ]
  },
  {
   "cell_type": "code",
   "execution_count": 14,
   "metadata": {
    "collapsed": false
   },
   "outputs": [
    {
     "name": "stdout",
     "output_type": "stream",
     "text": [
      "['RE3_20170420_3163017_RD_12bit_RGBREI_5m.jp2', 'RE1_20170404_3162917_RD_12bit_RGBREI_5m.jp2', 'RE5_20170707_3162917_RD_12bit_RGBREI_5m.jp2', 'RE1_20170829_3163721_RD_12bit_RGBREI_5m.jp2', 'RE1_20170404_3162817_RD_12bit_RGBREI_5m.jp2', 'RE5_20170707_3162817_RD_12bit_RGBREI_5m.jp2', 'RE2_20170331_3163722_RD_12bit_RGBREI_5m.jp2', 'RE4_20170602_3163722_RD_12bit_RGBREI_5m.jp2', 'RE3_20170420_3162818_RD_12bit_RGBREI_5m.jp2', 'RE3_20170601_3163722_RD_12bit_RGBREI_5m.jp2', 'RE4_20170510_3162817_RD_12bit_RGBREI_5m.jp2', 'RE5_20170525_3163721_RD_12bit_RGBREI_5m.jp2', 'RE4_20170510_3162917_RD_12bit_RGBREI_5m.jp2', 'RE2_20170522_3163721_RD_12bit_RGBREI_5m.jp2', 'RE4_20170425_3163721_RD_12bit_RGBREI_5m.jp2', 'RE5_20170902_3163017_RD_12bit_RGBREI_5m.jp2', 'RE4_20170510_3162916_RD_12bit_RGBREI_5m.jp2', 'RE5_20170809_3162916_RD_12bit_RGBREI_5m.jp2', 'RE5_20170525_3162817_RD_12bit_RGBREI_5m.jp2', 'RE5_20170525_3162917_RD_12bit_RGBREI_5m.jp2', 'RE1_20170330_3263706_RD_12bit_RGBREI_5m.jp2', 'RE4_20170510_3162816_RD_12bit_RGBREI_5m.jp2', 'RE5_20170707_3162816_RD_12bit_RGBREI_5m.jp2', 'RE1_20170404_3162816_RD_12bit_RGBREI_5m.jp2', 'RE1_20170404_3163721_RD_12bit_RGBREI_5m.jp2', 'RE2_20170709_3163722_RD_12bit_RGBREI_5m.jp2', 'RE1_20170404_3162916_RD_12bit_RGBREI_5m.jp2', 'RE4_20170602_3163721_RD_12bit_RGBREI_5m.jp2', 'RE4_20170323_3162916_RD_12bit_RGBREI_5m.jp2', 'RE2_20170709_3162817_RD_12bit_RGBREI_5m.jp2', 'RE3_20170327_3263706_RD_12bit_RGBREI_5m.jp2', 'RE4_20170323_3163721_RD_12bit_RGBREI_5m.jp2', 'RE1_20170325_3263706_RD_12bit_RGBREI_5m.jp2', 'RE2_20170331_3163721_RD_12bit_RGBREI_5m.jp2', 'RE1_20170829_3163722_RD_12bit_RGBREI_5m.jp2', 'RE4_20170323_3162816_RD_12bit_RGBREI_5m.jp2', 'RE2_20170709_3162917_RD_12bit_RGBREI_5m.jp2', 'RE1_20170409_3162917_RD_12bit_RGBREI_5m.jp2', 'RE4_20170425_3163722_RD_12bit_RGBREI_5m.jp2', 'RE2_20170522_3163722_RD_12bit_RGBREI_5m.jp2', 'RE2_20170321_3163721_RD_12bit_RGBREI_5m.jp2', 'RE5_20170525_3163722_RD_12bit_RGBREI_5m.jp2', 'RE4_20170827_3163017_RD_12bit_RGBREI_5m.jp2', 'RE2_20170321_3162916_RD_12bit_RGBREI_5m.jp2', 'RE1_20170409_3162817_RD_12bit_RGBREI_5m.jp2', 'RE2_20170409_3263706_RD_12bit_RGBREI_5m.jp2', 'RE1_20170409_3162816_RD_12bit_RGBREI_5m.jp2', 'RE2_20170321_3162917_RD_12bit_RGBREI_5m.jp2', 'RE3_20170904_3263706_RD_12bit_RGBREI_5m.jp2', 'RE1_20170409_3162916_RD_12bit_RGBREI_5m.jp2', 'RE2_20170321_3162817_RD_12bit_RGBREI_5m.jp2', 'RE1_20170511_3163722_RD_12bit_RGBREI_5m.jp2', 'RE2_20170709_3163721_RD_12bit_RGBREI_5m.jp2', 'RE2_20170709_3162916_RD_12bit_RGBREI_5m.jp2', 'RE4_20170323_3162817_RD_12bit_RGBREI_5m.jp2', 'RE2_20170709_3162816_RD_12bit_RGBREI_5m.jp2', 'RE4_20170323_3162917_RD_12bit_RGBREI_5m.jp2', 'RE4_20170426_3162917_RD_12bit_RGBREI_5m.jp2', 'RE4_20170827_3162816_RD_12bit_RGBREI_5m.jp2', 'RE2_20170321_3162818_RD_12bit_RGBREI_5m.jp2', 'RE2_20170409_3163722_RD_12bit_RGBREI_5m.jp2', 'RE2_20170321_3163017_RD_12bit_RGBREI_5m.jp2', 'RE3_20170904_3163722_RD_12bit_RGBREI_5m.jp2', 'RE4_20170827_3162916_RD_12bit_RGBREI_5m.jp2', 'RE4_20170323_3163017_RD_12bit_RGBREI_5m.jp2', 'RE1_20170511_3263706_RD_12bit_RGBREI_5m.jp2', 'RE4_20170323_3162818_RD_12bit_RGBREI_5m.jp2', 'RE2_20170331_3162818_RD_12bit_RGBREI_5m.jp2', 'RE3_20170807_3263706_RD_12bit_RGBREI_5m.jp2', 'RE2_20170709_3163017_RD_12bit_RGBREI_5m.jp2', 'RE1_20170325_3163722_RD_12bit_RGBREI_5m.jp2', 'RE3_20170327_3163722_RD_12bit_RGBREI_5m.jp2', 'RE1_20170829_3263706_RD_12bit_RGBREI_5m.jp2', 'RE1_20170409_3162818_RD_12bit_RGBREI_5m.jp2', 'RE4_20170827_3162917_RD_12bit_RGBREI_5m.jp2', 'RE4_20170425_3263706_RD_12bit_RGBREI_5m.jp2', 'RE4_20170827_3162817_RD_12bit_RGBREI_5m.jp2', 'RE3_20170709_3263706_RD_12bit_RGBREI_5m.jp2', 'RE4_20170426_3162916_RD_12bit_RGBREI_5m.jp2', 'RE1_20170409_3163017_RD_12bit_RGBREI_5m.jp2', 'RE3_20170904_3163721_RD_12bit_RGBREI_5m.jp2', 'RE5_20170902_3162816_RD_12bit_RGBREI_5m.jp2', 'RE5_20170525_3163017_RD_12bit_RGBREI_5m.jp2', 'RE2_20170409_3163721_RD_12bit_RGBREI_5m.jp2', 'RE5_20170902_3162916_RD_12bit_RGBREI_5m.jp2', 'RE5_20170525_3162818_RD_12bit_RGBREI_5m.jp2', 'RE3_20170831_3162817_RD_12bit_RGBREI_5m.jp2', 'RE1_20170330_3163722_RD_12bit_RGBREI_5m.jp2', 'RE5_20170315_3162916_RD_12bit_RGBREI_5m.jp2', 'RE3_20170420_3163721_RD_12bit_RGBREI_5m.jp2', 'RE3_20170420_3162916_RD_12bit_RGBREI_5m.jp2', 'RE3_20170420_3162816_RD_12bit_RGBREI_5m.jp2', 'RE2_20170825_3163722_RD_12bit_RGBREI_5m.jp2', 'RE3_20170420_3162817_RD_12bit_RGBREI_5m.jp2', 'RE1_20170404_3162818_RD_12bit_RGBREI_5m.jp2', 'RE5_20170707_3162818_RD_12bit_RGBREI_5m.jp2', 'RE3_20170327_3163721_RD_12bit_RGBREI_5m.jp2', 'RE1_20170404_3163017_RD_12bit_RGBREI_5m.jp2', 'RE2_20170331_3263706_RD_12bit_RGBREI_5m.jp2', 'RE1_20170619_3163722_RD_12bit_RGBREI_5m.jp2', 'RE3_20170420_3162917_RD_12bit_RGBREI_5m.jp2', 'RE5_20170809_3163017_RD_12bit_RGBREI_5m.jp2', 'RE5_20170902_3162917_RD_12bit_RGBREI_5m.jp2', 'RE4_20170510_3163017_RD_12bit_RGBREI_5m.jp2', 'RE4_20170510_3162818_RD_12bit_RGBREI_5m.jp2']\n"
     ]
    }
   ],
   "source": [
    "if rapideye:\n",
    "#     files = glob.glob('*.jp2000')\n",
    "    files = glob.glob('*.jp2')\n",
    "#     print(files)\n",
    "    for i, f in enumerate(files):\n",
    "        print(str(i)+' of '+str(len(files)))\n",
    "        filename = os.path.splitext(os.path.basename(f))[0]\n",
    "        metafile = filename+'.txt'\n",
    "        #Open existing dataset\n",
    "        ds = gdal.Open(f)\n",
    "        ds = gdal.Translate(filename+'.tif', ds, )\n",
    "        ds = None\n",
    "        \n",
    "        pvl_dict = {}\n",
    "        for line in open(metafile):\n",
    "            line = line.strip() # strip leading and trailing whitespace\n",
    "            if not \"GROUP\" in line: # skip lines containing \"GROUP\"\n",
    "                line = line.replace('\"', '') \n",
    "                vals = str.split(line, ' = ') \n",
    "                if (len(vals) == 1):\n",
    "                    pass\n",
    "                else:\n",
    "                    pvl_dict[vals[0]] = vals[1]\n",
    "        ds = gdal.Open(f)\n",
    "        # Set metadata in datasource\n",
    "        ds.SetMetadata(pvl_dict) \n",
    "        ds = None"
   ]
  },
  {
   "cell_type": "code",
   "execution_count": 29,
   "metadata": {
    "collapsed": false
   },
   "outputs": [
    {
     "name": "stdout",
     "output_type": "stream",
     "text": [
      "['Number of files to upload as assets = 105']\n"
     ]
    },
    {
     "data": {
      "text/html": [
       "<div>\n",
       "<style scoped>\n",
       "    .dataframe tbody tr th:only-of-type {\n",
       "        vertical-align: middle;\n",
       "    }\n",
       "\n",
       "    .dataframe tbody tr th {\n",
       "        vertical-align: top;\n",
       "    }\n",
       "\n",
       "    .dataframe thead th {\n",
       "        text-align: right;\n",
       "    }\n",
       "</style>\n",
       "<table border=\"1\" class=\"dataframe\">\n",
       "  <thead>\n",
       "    <tr style=\"text-align: right;\">\n",
       "      <th></th>\n",
       "      <th>system:time_start</th>\n",
       "    </tr>\n",
       "    <tr>\n",
       "      <th>filename</th>\n",
       "      <th></th>\n",
       "    </tr>\n",
       "  </thead>\n",
       "  <tbody>\n",
       "    <tr>\n",
       "      <th>RE3_20170904_3163721_RD_12bit_RGBREI_5m</th>\n",
       "      <td>1.504523e+12</td>\n",
       "    </tr>\n",
       "    <tr>\n",
       "      <th>RE5_20170902_3162816_RD_12bit_RGBREI_5m</th>\n",
       "      <td>1.504351e+12</td>\n",
       "    </tr>\n",
       "    <tr>\n",
       "      <th>RE5_20170525_3163017_RD_12bit_RGBREI_5m</th>\n",
       "      <td>1.495711e+12</td>\n",
       "    </tr>\n",
       "    <tr>\n",
       "      <th>RE5_20170902_3162916_RD_12bit_RGBREI_5m</th>\n",
       "      <td>1.504351e+12</td>\n",
       "    </tr>\n",
       "    <tr>\n",
       "      <th>RE2_20170409_3163721_RD_12bit_RGBREI_5m</th>\n",
       "      <td>1.491736e+12</td>\n",
       "    </tr>\n",
       "  </tbody>\n",
       "</table>\n",
       "</div>"
      ],
      "text/plain": [
       "                                         system:time_start\n",
       "filename                                                  \n",
       "RE3_20170904_3163721_RD_12bit_RGBREI_5m       1.504523e+12\n",
       "RE5_20170902_3162816_RD_12bit_RGBREI_5m       1.504351e+12\n",
       "RE5_20170525_3163017_RD_12bit_RGBREI_5m       1.495711e+12\n",
       "RE5_20170902_3162916_RD_12bit_RGBREI_5m       1.504351e+12\n",
       "RE2_20170409_3163721_RD_12bit_RGBREI_5m       1.491736e+12"
      ]
     },
     "execution_count": 29,
     "metadata": {},
     "output_type": "execute_result"
    }
   ],
   "source": [
    "files = glob.glob('*.tif')\n",
    "print(['Number of files to upload as assets = '+str(len(files))])\n",
    "df = pd.DataFrame(columns=['filename','system:time_start'])\n",
    "\n",
    "if rapideye:\n",
    "    files = glob.glob('*.tif')\n",
    "    print(['Number of files to upload as assets = '+str(len(files))])\n",
    "\n",
    "    for i, f in enumerate(files):\n",
    "        filename = os.path.splitext(os.path.basename(f))[0]\n",
    "        metafile = filename+'.txt'\n",
    "        pvl_dict = {}\n",
    "        for line in open(metafile):\n",
    "            line = line.strip() # strip leading and trailing whitespace\n",
    "            if not \"GROUP\" in line: # skip lines containing \"GROUP\"\n",
    "                line = line.replace('\"', '') \n",
    "                vals = str.split(line, ' = ') \n",
    "                if (len(vals) == 1):\n",
    "                    pass\n",
    "                else:\n",
    "                    pvl_dict[vals[0]] = vals[1]\n",
    "        \n",
    "        datestring = pvl_dict['Acquisition Date']\n",
    "        timestring = pvl_dict['Acquisition Time']\n",
    "        t = datetime.datetime.strptime(datestring+timestring, '%Y-%m-%d%H:%M:%S')\n",
    "        time_start = t.replace(tzinfo=datetime.timezone.utc).timestamp()*1000\n",
    "        \n",
    "        df.loc[i] = [filename, time_start]\n",
    "        \n",
    "elif triplesat:\n",
    "    files = glob.glob('*.tif')\n",
    "    print(['Number of files to upload as assets = '+str(len(files))])\n",
    "\n",
    "    for i, f in enumerate(files):\n",
    "        filesize = os.path.getsize(f)\n",
    "        filename = os.path.splitext(os.path.basename(f))[0]\n",
    "        if (filesize > 10e9):\n",
    "            in_path = os.path.join(input_dir,f)\n",
    "            out_path = os.path.join(input_dir,filename_no_ext)\n",
    "            ds = gdal.Open(in_path)\n",
    "            band = ds.GetRasterBand(1)\n",
    "            xsize = band.XSize\n",
    "            ysize = band.YSize\n",
    "\n",
    "            tile_size_x = int(math.ceil(xsize/2))\n",
    "            tile_size_y = int(math.ceil(ysize/2))\n",
    "\n",
    "            for i in range(0, xsize, tile_size_x):\n",
    "                for j in range(0, ysize, tile_size_y):\n",
    "                    com_string = \"gdal_translate -of GTIFF -srcwin \" + str(i)+ \", \" + str(j) + \", \" + str(tile_size_x) + \", \" + str(tile_size_y) + \" \" + str(in_path) + \" \" + str(out_path) + str(i) + \"_\" + str(j) + \".tif\"\n",
    "                    os.system(com_string)\n",
    "                    \n",
    "            ds = None\n",
    "        \n",
    "        datestring = re.findall(r\"\\d{8}_\\d{6}\", filename)[0]        \n",
    "        t = datetime.datetime.strptime(datestring, '%Y%m%d_%H%M%S')\n",
    "        time_start = t.replace(tzinfo=datetime.timezone.utc).timestamp()*1000\n",
    "        \n",
    "        # add filename and time to dataframe\n",
    "        df.loc[i] = [filename, time_start]\n",
    "        \n",
    "else:\n",
    "    print(\"No satellite selected.\")\n",
    "\n",
    "# save dataframe as csv for metadata\n",
    "df.set_index('filename', inplace=True)\n",
    "meta = 'metadata.csv'\n",
    "df.to_csv(meta)\n",
    "df.head(n=5)"
   ]
  },
  {
   "cell_type": "code",
   "execution_count": 30,
   "metadata": {
    "collapsed": false
   },
   "outputs": [
    {
     "name": "stdout",
     "output_type": "stream",
     "text": [
      "geebam upload --source P:/11202200.005-kpp-cip2018/data/Satellitedataportaal\\RapidEye/RE_RD_12bit_RGBEI_5m_jp2000/ --dest users/rogersckw9/eo-bathymetry/rapideye -m P:/11202200.005-kpp-cip2018/data/Satellitedataportaal\\RapidEye/RE_RD_12bit_RGBEI_5m_jp2000/metadata.csv -u rogersckw9@gmail.com\n"
     ]
    }
   ],
   "source": [
    "# Use Google Earth Engine Batch Asset Manager\n",
    "# Details at https://github.com/tracek/gee_asset_manager\n",
    "\n",
    "user = \"rogersckw9@gmail.com\"\n",
    "\n",
    "# Running the following within notebook doesn't work, need to input password.\n",
    "# Copy and paste the following in command line to run\n",
    "if rapideye:\n",
    "    print(\"geebam upload --source {0} --dest users/rogersckw9/eo-bathymetry/rapideye-rgbrei -m {1} -u {2}\".format(os.path.join(input_dir,dst), os.path.join(input_dir,dst,meta), user))\n",
    "elif triplesat:\n",
    "    print(\"geebam upload --source {0} --dest users/rogersckw9/eo-bathymetry/triplesat-rgbi -m {1} --large -u {2}\".format(os.path.join(input_dir,dst), os.path.join(input_dir,dst,meta), user))\n",
    "else:\n",
    "    print(\"No satellite selected.\")"
   ]
  },
  {
   "cell_type": "code",
   "execution_count": null,
   "metadata": {
    "collapsed": false
   },
   "outputs": [],
   "source": [
    "# if uploading to Google Cloud first, follow this protocol (this is for RapidEye)\n",
    "\n",
    "for i, f in enumerate(files):\n",
    "    print('Processing file ' + f + ', file index: ' + str(i))\n",
    "\n",
    "    # extract time in UTC\n",
    "    fh = open(f, 'rb')\n",
    "    tags = exifread.process_file(fh, stop_tag=\"Image DateTime\")\n",
    "    datestring = str(tags[\"Image DateTime\"].values)\n",
    "    t = datetime.datetime.strptime(datestring, '%Y:%m:%d %H:%M:%S')\n",
    "    local_t = local.localize(t, is_dst=None)\n",
    "    utc_t = local_t.astimezone(pytz.utc)\n",
    "    time_start = utc_t.strftime('%Y-%m-%dT%H:%M:%S')\n",
    "\n",
    "    # parse file names\n",
    "    filename = os.path.basename(f)\n",
    "    filename_no_ext = os.path.splitext(filename)[0]\n",
    "\n",
    "    # get nodata value ... UGLY, UGLY code!\n",
    "    nodata_value = -99999999\n",
    "    with open(f, encoding=\"latin_1\") as asc:\n",
    "         for line in asc:\n",
    "            if \"nodata_value\" in line.lower():\n",
    "                nodata_value = line.split()[1]\n",
    "                break\n",
    "    \n",
    "    run(r\"C:\\Users\\Wilson\\AppData\\Local\\Google\\Cloud SDK\\google-cloud-sdk\\bin\\gsutil.cmd cp {0} gs://eo-bathymetry/rapideye/{1}\".format(os.path.join(input_dir,f),filename))\n",
    "            \n",
    "    # upload to GEE\n",
    "    retry_count = 0\n",
    "\n",
    "    while True:\n",
    "        run(\"earthengine upload image --wait --asset_id=users/rogersckw9/rapideye/{1} --nodata_value={0} gs://eo-bathymetry/rapideye/{1}\".format(nodata_value, filename))\n",
    "                    \n",
    "        check last task status\n",
    "        tasks = ee.data.getTaskList()\n",
    "        task_state = None\n",
    "        for task in tasks:\n",
    "            task_status = ee.data.getTaskStatus([task['id']])\n",
    "            task_state = task_status[0]['state']\n",
    "            print(task_status)\n",
    "            break\n",
    "\n",
    "        if task_state != 'FAILED':\n",
    "            break # done\n",
    "        else:\n",
    "            retry_count += 1\n",
    "            print('Retrying upload ' + str(retry_count) + ' ...')\n",
    "\n",
    "        if retry_count > 10:\n",
    "            print('Maximum number of retry reached, exiting ...')\n",
    "            sys.exit(0)\n",
    "    \n",
    "    # set time\n",
    "    run(\"earthengine asset set --time_start {0} users/rogersckw9/rapideye/{1}\".format(time_start, filename_no_ext))\n",
    "\n",
    "    if rapideye:\n",
    "    \n",
    "elif triplesat:\n",
    "\n",
    "else:\n",
    "    print(\"No satellite selected.\")"
   ]
  },
  {
   "cell_type": "code",
   "execution_count": null,
   "metadata": {
    "collapsed": false
   },
   "outputs": [],
   "source": [
    "# If TripleSat images are larger than 10GB (RGBI tend to be) must split images first to upload to GEE.\n",
    "input_dir = r'P:\\11202200.005-kpp-cip2018\\data\\Satellitedataportaal'\n",
    "os.chdir(input_dir)\n",
    "\n",
    "# find all .tif files\n",
    "files = glob.glob('TripleSat\\Tri_RD_8bit_RGBI_80cm\\*.tif')#, recursive=True)\n",
    "print(['Number of files to upload as assets = '+str(len(files))])\n",
    "\n",
    "# find all .tif files\n",
    "files = glob.glob('TripleSat\\Tri_RD_8bit_RGBI_80cm\\*.tif')#, recursive=True)\n",
    "print(['Number of files to upload as assets = '+str(len(files))])\n",
    "\n",
    "for f in files:\n",
    "    filename = os.path.basename(f)\n",
    "    filename_no_ext = os.path.splitext(filename)[0]    \n",
    "    in_path = os.path.join(input_dir,f)\n",
    "    out_path = os.path.join(input_dir,filename_no_ext)\n",
    "    ds = gdal.Open(in_path)\n",
    "    band = ds.GetRasterBand(1)\n",
    "    xsize = band.XSize\n",
    "    ysize = band.YSize\n",
    "    \n",
    "    tile_size_x = int(math.ceil(xsize/2))\n",
    "    tile_size_y = int(math.ceil(ysize/2))\n",
    "\n",
    "    for i in range(0, xsize, tile_size_x):\n",
    "        for j in range(0, ysize, tile_size_y):\n",
    "            com_string = \"gdal_translate -of GTIFF -srcwin \" + str(i)+ \", \" + str(j) + \", \" + str(tile_size_x) + \", \" + str(tile_size_y) + \" \" + str(in_path) + \" \" + str(out_path) + str(i) + \"_\" + str(j) + \".tif\"\n",
    "            os.system(com_string)\n",
    "            \n",
    "    ds = None"
   ]
  },
  {
   "cell_type": "code",
   "execution_count": null,
   "metadata": {
    "collapsed": false
   },
   "outputs": [],
   "source": [
    "files = glob.glob('TripleSat\\**\\*.tif')\n",
    "# Inspect a .tif file\n",
    "print(gdal.Info(files[0]))"
   ]
  },
  {
   "cell_type": "code",
   "execution_count": null,
   "metadata": {
    "collapsed": false
   },
   "outputs": [],
   "source": [
    "tzinfo=datetime.timezone.utc\n",
    "print(tzinfo)"
   ]
  }
 ],
 "metadata": {
  "kernelspec": {
   "display_name": "Python [conda env:gdalenv]",
   "language": "python",
   "name": "conda-env-gdalenv-py"
  },
  "language_info": {
   "codemirror_mode": {
    "name": "ipython",
    "version": 3
   },
   "file_extension": ".py",
   "mimetype": "text/x-python",
   "name": "python",
   "nbconvert_exporter": "python",
   "pygments_lexer": "ipython3",
   "version": "3.5.4"
  }
 },
 "nbformat": 4,
 "nbformat_minor": 0
}
