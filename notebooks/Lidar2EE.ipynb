{
 "cells": [
  {
   "cell_type": "code",
   "execution_count": 1,
   "metadata": {
    "collapsed": true
   },
   "outputs": [],
   "source": [
    "%matplotlib inline\n",
    "import subprocess\n",
    "import netCDF4\n",
    "import numpy as np\n",
    "from osgeo import gdal\n",
    "from osgeo.gdalconst import *\n",
    "import pytz\n",
    "import itertools"
   ]
  },
  {
   "cell_type": "markdown",
   "metadata": {},
   "source": [
    "Parse http://opendap.tudelft.nl/thredds/data2/zandmotor/morphology/LIDAR/catalog.html ..."
   ]
  },
  {
   "cell_type": "code",
   "execution_count": 31,
   "metadata": {
    "collapsed": false
   },
   "outputs": [
    {
     "name": "stdout",
     "output_type": "stream",
     "text": [
      "http://opendap.tudelft.nl/thredds/dodsC/data2/zandmotor/morphology/LIDAR/72hz2_res5x5.nc\n"
     ]
    }
   ],
   "source": [
    "# A bit ugly, with requests and beautiful soup, but it collects the files from on TUDelft repository\n",
    "\n",
    "from bs4 import BeautifulSoup\n",
    "import requests\n",
    "\n",
    "urlpath = 'http://opendap.tudelft.nl/thredds/data2/zandmotor/morphology/LIDAR/catalog.html'\n",
    "ext = 'nc'\n",
    "urls = []\n",
    "\n",
    "def listFD(url, ext=''):\n",
    "    page = requests.get(urlpath).text\n",
    "    #print(page)\n",
    "    soup = BeautifulSoup(page, 'html.parser')\n",
    "    return [urlpath + '/' + node.get('href') for node in soup.find_all('a') if node.get('href').endswith(ext)]\n",
    "\n",
    "for ncfile in listFD(url, ext):\n",
    "    nclist = ncfile.partition('/catalog.html/')[0] + ncfile[-16:]\n",
    "    urls.append(nclist.replace('thredds/data2','thredds/dodsC/data2'))\n",
    "\n",
    "print(urls[0])"
   ]
  },
  {
   "cell_type": "code",
   "execution_count": null,
   "metadata": {
    "collapsed": false
   },
   "outputs": [],
   "source": []
  },
  {
   "cell_type": "code",
   "execution_count": 39,
   "metadata": {
    "collapsed": false
   },
   "outputs": [
    {
     "name": "stderr",
     "output_type": "stream",
     "text": [
      "100%|██████████| 106/106 [01:01<00:00,  1.71it/s]\n"
     ]
    }
   ],
   "source": [
    "from tqdm import tqdm\n",
    "\n",
    "grids = []\n",
    "for url in tqdm(urls):\n",
    "    #print(url)\n",
    "    ds = netCDF4.Dataset(url)\n",
    "    times = netCDF4.num2date(ds.variables['time'][:], ds.variables['time'].units)\n",
    "    local = pytz.timezone(\"Europe/Amsterdam\")\n",
    "    times = [local.localize(t, is_dst=None).astimezone(pytz.utc) for t in times]\n",
    "    arrs = []\n",
    "    z = ds.variables['z'][:]\n",
    "    x = ds.variables['x'][:]\n",
    "    y = ds.variables['y'][:]\n",
    "    grids.append({\n",
    "        \"url\": url,\n",
    "        \"x\": x,\n",
    "        \"y\": y,\n",
    "        \"z\": z,\n",
    "        \"times\": times\n",
    "    })\n",
    "    ds.close()\n"
   ]
  },
  {
   "cell_type": "code",
   "execution_count": 38,
   "metadata": {
    "collapsed": false
   },
   "outputs": [
    {
     "data": {
      "text/plain": [
       "111"
      ]
     },
     "execution_count": 38,
     "metadata": {},
     "output_type": "execute_result"
    }
   ],
   "source": [
    "count = len(list(itertools.chain.from_iterable([g['times'] for g in grids])))\n",
    "count"
   ]
  },
  {
   "cell_type": "code",
   "execution_count": 6,
   "metadata": {
    "collapsed": true
   },
   "outputs": [],
   "source": [
    "ee_collection_path = 'users/gena/eo-bathymetry/sandengine_lidar'"
   ]
  },
  {
   "cell_type": "code",
   "execution_count": 11,
   "metadata": {
    "collapsed": true
   },
   "outputs": [],
   "source": [
    "def run(cmd):\n",
    "    print(cmd)\n",
    "    subprocess.call(cmd)"
   ]
  },
  {
   "cell_type": "code",
   "execution_count": null,
   "metadata": {
    "collapsed": false
   },
   "outputs": [
    {
     "name": "stdout",
     "output_type": "stream",
     "text": [
      "Processing time: 2011-08-02 22:00:00+00:00\n"
     ]
    }
   ],
   "source": [
    "i = 0\n",
    "for g in grids:\n",
    "    ncols = len(g['x'])\n",
    "    nrows = len(g['y'])\n",
    "    cellsize = g['x'][1] - g['x'][0]\n",
    "    xllcorner = np.min(g['x'])\n",
    "    yllcorner = np.min(g['y'])\n",
    "    nodata_value = -9999\n",
    "\n",
    "    for t in g['times']:\n",
    "        print('Processing time: {0}'.format(t))\n",
    "        z = g['z']\n",
    "        filename = 'bathymetry_lidar_' + str(i).rjust(3, '0')\n",
    "        filepath = '../output/' + filename\n",
    "        filepath_asc = filepath + '.asc'\n",
    "        filepath_tif = filepath + '.tif'\n",
    "        filename_tif = filename + '.tif'\n",
    "\n",
    "        z = z[i]\n",
    "\n",
    "        with open(filepath_asc, 'w') as f:\n",
    "            f.write('ncols {0}\\n'.format(ncols))\n",
    "            f.write('nrows {0}\\n'.format(nrows))\n",
    "            f.write('cellsize {0}\\n'.format(cellsize))\n",
    "            f.write('xllcorner {0}\\n'.format(xllcorner))\n",
    "            f.write('yllcorner {0}\\n'.format(yllcorner))\n",
    "            f.write('nodata_value {0}\\n'.format(nodata_value))\n",
    "            for row in np.flip(range(nrows), 0):\n",
    "                s = ' '.join([str(v) for v in z[row,]]).replace('--', str(nodata_value))\n",
    "                f.write(s)\n",
    "                f.write('\\n')\n",
    "\n",
    "        cmd = 'gdal_translate -ot Float32 -a_srs EPSG:28992 -co COMPRESS=DEFLATE -co PREDICTOR=2 -co ZLEVEL=6 -of GTiff {0} {1}'\\\n",
    "            .format(filepath_asc, filepath_tif)\n",
    "        run(cmd)\n",
    "        \n",
    "        filepath_gs = 'gs://hydro-earth/sandengine/' + filename_tif\n",
    "        \n",
    "        gsutil = 'D:/src/google-cloud-sdk/bin/gsutil.cmd' # relative path is not defined on Windows\n",
    "        cmd = gsutil + ' cp {0} {1}'\\\n",
    "            .format(filepath_tif, filepath_gs)\n",
    "        run(cmd)\n",
    "        \n",
    "        filepath_ee = ee_collection_path + '/' + filename        \n",
    "        cmd = 'earthengine upload image --wait --asset_id={0} --nodata_value={1} {2}'\\\n",
    "            .format(filepath_ee, nodata_value, filepath_gs)        \n",
    "        run(cmd)\n",
    "        \n",
    "        time_start = int(grids[0]['times'][0].timestamp() * 1000)\n",
    "        cmd = 'earthengine asset set --time_start {0} {1}'\\\n",
    "            .format(time_start, filepath_ee)\n",
    "        run(cmd)\n",
    "\n",
    "        cmd = 'earthengine acl set public {0}'\\\n",
    "            .format(filepath_ee)\n",
    "        run(cmd)\n",
    "\n",
    "        i = i + 1"
   ]
  }
 ],
 "metadata": {
  "anaconda-cloud": {},
  "kernelspec": {
   "display_name": "Python 3",
   "language": "python",
   "name": "python3"
  },
  "language_info": {
   "codemirror_mode": {
    "name": "ipython",
    "version": 3
   },
   "file_extension": ".py",
   "mimetype": "text/x-python",
   "name": "python",
   "nbconvert_exporter": "python",
   "pygments_lexer": "ipython3",
   "version": "3.5.2"
  }
 },
 "nbformat": 4,
 "nbformat_minor": 2
}
