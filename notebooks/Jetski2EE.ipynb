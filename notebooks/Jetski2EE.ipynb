{
 "cells": [
  {
   "cell_type": "code",
   "execution_count": 1,
   "metadata": {},
   "outputs": [],
   "source": [
    "import pathlib\n",
    "\n",
    "import cmocean.cm\n",
    "import netCDF4\n",
    "import numpy as np\n",
    "import matplotlib.pyplot as plt\n",
    "import matplotlib.colors\n",
    "import scipy.interpolate\n",
    "import scipy.stats\n",
    "\n",
    "\n",
    "%matplotlib inline\n"
   ]
  },
  {
   "cell_type": "code",
   "execution_count": 11,
   "metadata": {},
   "outputs": [],
   "source": [
    "# based on TUDelft repository\n",
    "url = (['http://opendap.tudelft.nl/thredds/dodsC/data2/zandmotor/morphology/JETSKI/gridded/jetskikb118_3938.nc',\n",
    "       'http://opendap.tudelft.nl/thredds/dodsC/data2/zandmotor/morphology/JETSKI/gridded/jetskikb118_3736.nc',\n",
    "       'http://opendap.tudelft.nl/thredds/dodsC/data2/zandmotor/morphology/JETSKI/gridded/jetskikb117_3938.nc'])\n"
   ]
  },
  {
   "cell_type": "code",
   "execution_count": 15,
   "metadata": {},
   "outputs": [
    {
     "data": {
      "text/plain": [
       "array([datetime.datetime(2012, 2, 25, 0, 0),\n",
       "       datetime.datetime(2013, 3, 15, 0, 0),\n",
       "       datetime.datetime(2013, 5, 15, 0, 0),\n",
       "       datetime.datetime(2013, 7, 15, 0, 0),\n",
       "       datetime.datetime(2013, 8, 30, 0, 0),\n",
       "       datetime.datetime(2013, 12, 28, 0, 0),\n",
       "       datetime.datetime(2014, 2, 28, 0, 0),\n",
       "       datetime.datetime(2014, 5, 24, 0, 0),\n",
       "       datetime.datetime(2014, 7, 4, 0, 0),\n",
       "       datetime.datetime(2014, 9, 3, 0, 0),\n",
       "       datetime.datetime(2014, 10, 30, 0, 0),\n",
       "       datetime.datetime(2015, 2, 10, 0, 0),\n",
       "       datetime.datetime(2015, 5, 23, 0, 0),\n",
       "       datetime.datetime(2015, 7, 23, 0, 0),\n",
       "       datetime.datetime(2015, 8, 1, 0, 0),\n",
       "       datetime.datetime(2015, 9, 28, 0, 0),\n",
       "       datetime.datetime(2016, 3, 12, 0, 0),\n",
       "       datetime.datetime(2016, 5, 7, 0, 0),\n",
       "       datetime.datetime(2016, 7, 19, 0, 0),\n",
       "       datetime.datetime(2016, 9, 7, 0, 0)], dtype=object)"
      ]
     },
     "execution_count": 15,
     "metadata": {},
     "output_type": "execute_result"
    }
   ],
   "source": [
    "ds = netCDF4.Dataset(url[0])\n",
    "times = netCDF4.num2date(ds.variables['time'][:], ds.variables['time'].units)\n",
    "times"
   ]
  },
  {
   "cell_type": "code",
   "execution_count": 6,
   "metadata": {},
   "outputs": [
    {
     "data": {
      "text/plain": [
       "'http:/opendap.tudelft.nl/thredds/dodsC/data2/zandmotor/morphology/JETSKI/gridded/jetskikb118_3938.nc'"
      ]
     },
     "execution_count": 6,
     "metadata": {},
     "output_type": "execute_result"
    }
   ],
   "source": []
  },
  {
   "cell_type": "code",
   "execution_count": null,
   "metadata": {},
   "outputs": [],
   "source": []
  }
 ],
 "metadata": {
  "kernelspec": {
   "display_name": "Python 3",
   "language": "python",
   "name": "python3"
  },
  "language_info": {
   "codemirror_mode": {
    "name": "ipython",
    "version": 3
   },
   "file_extension": ".py",
   "mimetype": "text/x-python",
   "name": "python",
   "nbconvert_exporter": "python",
   "pygments_lexer": "ipython3",
   "version": "3.5.2"
  }
 },
 "nbformat": 4,
 "nbformat_minor": 2
}
